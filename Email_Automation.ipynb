{
 "cells": [
  {
   "cell_type": "code",
   "execution_count": null,
   "metadata": {},
   "outputs": [],
   "source": [
    "from selenium import webdriver\n",
    "from selenium.webdriver.common.by import By\n",
    "from selenium.webdriver.common.keys import Keys\n",
    "from selenium.webdriver.chrome.service import Service\n",
    "from selenium.webdriver.support.ui import WebDriverWait\n",
    "from selenium.webdriver.support import expected_conditions as EC\n",
    "from openpyxl import load_workbook\n",
    "from itertools import zip_longest\n",
    "import pandas as pd\n",
    "import pyautogui\n",
    "import keyboard\n",
    "import time"
   ]
  },
  {
   "cell_type": "code",
   "execution_count": null,
   "metadata": {},
   "outputs": [
    {
     "name": "stdout",
     "output_type": "stream",
     "text": [
      "Email IDs: ['aadarsh@student.tce.edu', 'aswinraj@student.tce.edu', 'dhanushm@student.tce.edu']\n",
      "Names: ['Aadarsh', 'Aswinraj', None]\n"
     ]
    }
   ],
   "source": [
    "file_path = r\"C:\\Users\\aadar\\Documents\\Thiyagarajar College of Engg\\Udemy\\Email Automation\\email.xlsx\"\n",
    "workbook = load_workbook(filename=file_path)\n",
    "sheet = workbook.active\n",
    "emails = []\n",
    "names = []\n",
    "for row in sheet.iter_rows(min_row=2, max_row=sheet.max_row, min_col=1, max_col=2, values_only=True):\n",
    "    email, name = row\n",
    "    emails.append(email)\n",
    "    names.append(name)\n",
    "print(\"Email IDs:\", emails)\n",
    "print(\"Names:\", names)"
   ]
  },
  {
   "cell_type": "code",
   "execution_count": null,
   "metadata": {},
   "outputs": [
    {
     "name": "stdout",
     "output_type": "stream",
     "text": [
      "Email sent to aadarsh@student.tce.edu\n",
      "Email sent to aswinraj@student.tce.edu\n",
      "Email sent to dhanushm@student.tce.edu\n"
     ]
    }
   ],
   "source": [
    "path = \"C:\\chromedriver.exe\"\n",
    "service = Service(path)\n",
    "driver = webdriver.Chrome(service=service)\n",
    "driver.maximize_window()\n",
    "driver.get(\"https://mail.google.com/\")\n",
    "time.sleep(2)\n",
    "\n",
    "login_email = \"selenium.aadarsh.testing@gmail.com\"\n",
    "email_account = driver.find_element(By.XPATH, '/html/body/div[1]/div[1]/div[2]/c-wiz/div/div[2]/div/div/div[1]/form/span/section/div/div/div[1]/div/div[1]/div/div[1]/input')\n",
    "email_account.send_keys(login_email)\n",
    "time.sleep(2)\n",
    "pyautogui.click(1577, 739)\n",
    "time.sleep(2)\n",
    "\n",
    "password = \"selenium.python.testing\"\n",
    "email_account_password = WebDriverWait(driver, 10).until(EC.visibility_of_element_located((By.XPATH, '//*[@id=\"password\"]/div[1]/div/div[1]/input')))\n",
    "email_account_password.send_keys(password)\n",
    "time.sleep(1)\n",
    "pyautogui.click(1577, 725)\n",
    "time.sleep(2)\n",
    "\n",
    "\n",
    "\n",
    "for email, name in zip_longest(emails, names, fillvalue='Participant'):\n",
    "    try:\n",
    "        email_var = email\n",
    "        name_var = name\n",
    "\n",
    "        compose_button = WebDriverWait(driver, 10).until(EC.visibility_of_element_located((By.XPATH, '//div[@class=\"T-I T-I-KE L3\" and @role=\"button\"]')))\n",
    "        compose_button.click()\n",
    "        time.sleep(5)\n",
    "        \n",
    "        to_field = WebDriverWait(driver, 10).until(EC.presence_of_element_located((By.XPATH, '//input[@class=\"agP aFw\" and @role=\"combobox\"]')))\n",
    "        to_field.send_keys(email_var)\n",
    "        \n",
    "        subject_field = driver.find_element(By.XPATH, '//input[@class=\"aoT\" and @name=\"subjectbox\"]')\n",
    "        subject_field.send_keys(\"Announcement from Quizzards!!\")\n",
    "\n",
    "        keyboard.press_and_release('Tab')\n",
    "        time.sleep(5)\n",
    "        keyboard.write(f\"Dear {name_var if name_var is not None else 'Participant'},\\n\\n\" )\n",
    "        keyboard.write(\"We are thrilled to invite you to our annual college treasure hunt by Quizzards! \" )\n",
    "        keyboard.write(\"Please join us for an unforgettable experience.\\n\\nBest Regards,\\nThe Organizing Team\")\n",
    "        time.sleep(2)\n",
    "\n",
    "        send_button = driver.find_element(By.XPATH, '//div[@ class=\"T-I J-J5-Ji aoO v7 T-I-atl L3\" and @role=\"button\"]')\n",
    "        send_button.click()\n",
    "        time.sleep(3)\n",
    "        \n",
    "        print(f\"Email sent to {email}\")\n",
    "        time.sleep(5)\n",
    "\n",
    "    except Exception as e:\n",
    "        print(f\"Failed to send email to {email}. Error: {e}\")\n"
   ]
  }
 ],
 "metadata": {
  "kernelspec": {
   "display_name": "Python 3",
   "language": "python",
   "name": "python3"
  },
  "language_info": {
   "codemirror_mode": {
    "name": "ipython",
    "version": 3
   },
   "file_extension": ".py",
   "mimetype": "text/x-python",
   "name": "python",
   "nbconvert_exporter": "python",
   "pygments_lexer": "ipython3",
   "version": "3.11.1"
  }
 },
 "nbformat": 4,
 "nbformat_minor": 2
}
